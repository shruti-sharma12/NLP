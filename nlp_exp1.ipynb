{
  "nbformat": 4,
  "nbformat_minor": 0,
  "metadata": {
    "colab": {
      "provenance": []
    },
    "kernelspec": {
      "name": "python3",
      "display_name": "Python 3"
    },
    "language_info": {
      "name": "python"
    }
  },
  "cells": [
    {
      "cell_type": "markdown",
      "source": [
        "1032211936\n",
        "\n",
        "NLP (EXPERIMENT 1)\n",
        "\n",
        "TEXT PROCESSING OPERATIONS"
      ],
      "metadata": {
        "id": "H8Hk2oJTUn1H"
      }
    },
    {
      "cell_type": "markdown",
      "source": [
        "PART A: TO IMPLEMENT VARIOUS TEXT PROCESSING OPERATIONS ON A GIVEN SENTENCE."
      ],
      "metadata": {
        "id": "xHSl5LtRU7hW"
      }
    },
    {
      "cell_type": "code",
      "source": [
        "# First, install the necessary libraries\n",
        "!pip install nltk"
      ],
      "metadata": {
        "colab": {
          "base_uri": "https://localhost:8080/"
        },
        "id": "61hTx_CpYv8s",
        "outputId": "4b0eb361-809c-4094-cfd5-7c7280128fa8"
      },
      "execution_count": 8,
      "outputs": [
        {
          "output_type": "stream",
          "name": "stdout",
          "text": [
            "Requirement already satisfied: nltk in /usr/local/lib/python3.10/dist-packages (3.9.1)\n",
            "Requirement already satisfied: click in /usr/local/lib/python3.10/dist-packages (from nltk) (8.1.8)\n",
            "Requirement already satisfied: joblib in /usr/local/lib/python3.10/dist-packages (from nltk) (1.4.2)\n",
            "Requirement already satisfied: regex>=2021.8.3 in /usr/local/lib/python3.10/dist-packages (from nltk) (2024.11.6)\n",
            "Requirement already satisfied: tqdm in /usr/local/lib/python3.10/dist-packages (from nltk) (4.67.1)\n"
          ]
        }
      ]
    },
    {
      "cell_type": "code",
      "source": [
        "# Importing the required libraries\n",
        "import nltk\n",
        "import string\n",
        "from nltk.tokenize import word_tokenize\n",
        "from nltk.corpus import stopwords\n",
        "from nltk.stem import PorterStemmer, WordNetLemmatizer\n",
        "from nltk.util import ngrams\n",
        "\n",
        "# Download necessary NLTK data files\n",
        "nltk.download('punkt')\n",
        "nltk.download('stopwords')\n",
        "nltk.download('wordnet')\n",
        "\n",
        "# Sample input text\n",
        "text = \"  This is an example of text. It contains extra spaces, punctuation, and stop words! \"\n",
        "\n",
        "# 1. Trim unwanted spaces (strip leading and trailing spaces)\n",
        "text = text.strip()\n",
        "print(\"Trimmed Text:\", text)\n",
        "\n",
        "# 2. Convert the text to lowercase\n",
        "text_lower = text.lower()\n",
        "print(\"Lowercase Text:\", text_lower)\n",
        "\n",
        "# 3. Tokenize the text and determine its vocabulary\n",
        "tokens = word_tokenize(text_lower)\n",
        "vocabulary = set(tokens)\n",
        "print(\"Tokens:\", tokens)\n",
        "print(\"Vocabulary:\", vocabulary)\n",
        "\n",
        "# 4. Remove stop words\n",
        "stop_words = set(stopwords.words('english'))\n",
        "filtered_tokens = [word for word in tokens if word not in stop_words]\n",
        "print(\"Tokens after removing stop words:\", filtered_tokens)\n",
        "\n",
        "# 5. Remove punctuation\n",
        "filtered_tokens = [word for word in filtered_tokens if word not in string.punctuation]\n",
        "print(\"Tokens after removing punctuation:\", filtered_tokens)\n",
        "\n",
        "# 6. Normalize the text using Stemming and Lemmatization\n",
        "# Stemming\n",
        "stemmer = PorterStemmer()\n",
        "stemmed_tokens = [stemmer.stem(word) for word in filtered_tokens]\n",
        "print(\"Tokens after stemming:\", stemmed_tokens)\n",
        "\n",
        "# Lemmatization\n",
        "lemmatizer = WordNetLemmatizer()\n",
        "lemmatized_tokens = [lemmatizer.lemmatize(word) for word in filtered_tokens]\n",
        "print(\"Tokens after lemmatization:\", lemmatized_tokens)\n",
        "\n",
        "# 7. Create N-Grams (e.g., Bigrams)\n",
        "n = 2  # for bigrams\n",
        "bigrams = list(ngrams(filtered_tokens, n))\n",
        "print(f\"{n}-grams:\", bigrams)\n"
      ],
      "metadata": {
        "colab": {
          "base_uri": "https://localhost:8080/"
        },
        "id": "ciqRqL1kZJMj",
        "outputId": "10dfc860-ca08-4d6f-fe22-170085a1ac98"
      },
      "execution_count": 9,
      "outputs": [
        {
          "output_type": "stream",
          "name": "stderr",
          "text": [
            "[nltk_data] Downloading package punkt to /root/nltk_data...\n",
            "[nltk_data]   Unzipping tokenizers/punkt.zip.\n",
            "[nltk_data] Downloading package stopwords to /root/nltk_data...\n",
            "[nltk_data]   Package stopwords is already up-to-date!\n",
            "[nltk_data] Downloading package wordnet to /root/nltk_data...\n"
          ]
        },
        {
          "output_type": "stream",
          "name": "stdout",
          "text": [
            "Trimmed Text: This is an example of text. It contains extra spaces, punctuation, and stop words!\n",
            "Lowercase Text: this is an example of text. it contains extra spaces, punctuation, and stop words!\n",
            "Tokens: ['this', 'is', 'an', 'example', 'of', 'text', '.', 'it', 'contains', 'extra', 'spaces', ',', 'punctuation', ',', 'and', 'stop', 'words', '!']\n",
            "Vocabulary: {',', 'an', 'this', 'stop', 'is', '.', 'words', 'extra', 'punctuation', 'spaces', '!', 'text', 'of', 'and', 'it', 'contains', 'example'}\n",
            "Tokens after removing stop words: ['example', 'text', '.', 'contains', 'extra', 'spaces', ',', 'punctuation', ',', 'stop', 'words', '!']\n",
            "Tokens after removing punctuation: ['example', 'text', 'contains', 'extra', 'spaces', 'punctuation', 'stop', 'words']\n",
            "Tokens after stemming: ['exampl', 'text', 'contain', 'extra', 'space', 'punctuat', 'stop', 'word']\n",
            "Tokens after lemmatization: ['example', 'text', 'contains', 'extra', 'space', 'punctuation', 'stop', 'word']\n",
            "2-grams: [('example', 'text'), ('text', 'contains'), ('contains', 'extra'), ('extra', 'spaces'), ('spaces', 'punctuation'), ('punctuation', 'stop'), ('stop', 'words')]\n"
          ]
        }
      ]
    },
    {
      "cell_type": "markdown",
      "source": [
        "PART B: TO IMPLEMENT VARIOUS TEXT PROCESSING OPERATIONS ON A GIVEN PARAGRAPH."
      ],
      "metadata": {
        "id": "TAEbqHxhZcxC"
      }
    },
    {
      "cell_type": "code",
      "source": [
        "import nltk\n",
        "from nltk.corpus import stopwords\n",
        "from nltk.tokenize import word_tokenize\n",
        "from nltk.stem import WordNetLemmatizer\n",
        "from nltk import pos_tag, FreqDist\n",
        "from collections import Counter\n",
        "import string\n",
        "import matplotlib.pyplot as plt\n",
        "\n",
        "# Download necessary NLTK data files\n",
        "nltk.download('punkt')\n",
        "nltk.download('stopwords')\n",
        "nltk.download('averaged_perceptron_tagger')\n",
        "nltk.download('wordnet')\n",
        "nltk.download('punkt_tab')\n",
        "nltk.download('averaged_perceptron_tagger_eng')\n",
        "\n",
        "# Read the text from sample1.txt\n",
        "with open('sample.txt', 'r') as file:\n",
        "    text = file.read()\n",
        "\n",
        "# 1. Count the number of unique tokens in the text\n",
        "tokens = word_tokenize(text.lower())\n",
        "unique_tokens = set(tokens)\n",
        "print(\"Number of unique tokens:\", len(unique_tokens))\n",
        "\n",
        "# 2. Count the number of punctuation characters\n",
        "punctuation_count = sum(1 for char in text if char in string.punctuation)\n",
        "print(\"Number of punctuation characters:\", punctuation_count)\n",
        "\n",
        "# 3. Plot the distribution of each POS Tag using a bar plot\n",
        "pos_tags = pos_tag(tokens)\n",
        "pos_counts = Counter(tag for word, tag in pos_tags)\n",
        "\n",
        "plt.bar(pos_counts.keys(), pos_counts.values())\n",
        "plt.xlabel('POS Tags')\n",
        "plt.ylabel('Frequency')\n",
        "plt.title('POS Tag Distribution')\n",
        "plt.show()"
      ],
      "metadata": {
        "colab": {
          "base_uri": "https://localhost:8080/",
          "height": 784
        },
        "id": "AoCoYQXwb-bJ",
        "outputId": "7285d024-206c-48c1-ae3b-f5e9161c92d1"
      },
      "execution_count": 15,
      "outputs": [
        {
          "output_type": "stream",
          "name": "stderr",
          "text": [
            "[nltk_data] Downloading package punkt to /root/nltk_data...\n",
            "[nltk_data]   Package punkt is already up-to-date!\n",
            "[nltk_data] Downloading package stopwords to /root/nltk_data...\n",
            "[nltk_data]   Package stopwords is already up-to-date!\n",
            "[nltk_data] Downloading package averaged_perceptron_tagger to\n",
            "[nltk_data]     /root/nltk_data...\n",
            "[nltk_data]   Package averaged_perceptron_tagger is already up-to-\n",
            "[nltk_data]       date!\n",
            "[nltk_data] Downloading package wordnet to /root/nltk_data...\n",
            "[nltk_data]   Package wordnet is already up-to-date!\n",
            "[nltk_data] Downloading package punkt_tab to /root/nltk_data...\n",
            "[nltk_data]   Package punkt_tab is already up-to-date!\n",
            "[nltk_data] Downloading package averaged_perceptron_tagger_eng to\n",
            "[nltk_data]     /root/nltk_data...\n",
            "[nltk_data]   Package averaged_perceptron_tagger_eng is already up-to-\n",
            "[nltk_data]       date!\n"
          ]
        },
        {
          "output_type": "stream",
          "name": "stdout",
          "text": [
            "Number of unique tokens: 109\n",
            "Number of punctuation characters: 21\n"
          ]
        },
        {
          "output_type": "display_data",
          "data": {
            "text/plain": [
              "<Figure size 640x480 with 1 Axes>"
            ],
            "image/png": "[encoded data removed]"
          },
          "metadata": {}
        }
      ]
    }
  ]
}